{
 "cells": [
  {
   "cell_type": "code",
   "execution_count": 62,
   "id": "3a981833",
   "metadata": {},
   "outputs": [],
   "source": [
    "import pandas as pd"
   ]
  },
  {
   "cell_type": "code",
   "execution_count": 106,
   "id": "2db45449",
   "metadata": {
    "scrolled": false
   },
   "outputs": [
    {
     "data": {
      "text/plain": [
       "(98638, 20)"
      ]
     },
     "execution_count": 106,
     "metadata": {},
     "output_type": "execute_result"
    }
   ],
   "source": [
    "df = pd.read_csv('Peru_2019_AudioMoth_Data_Full.csv', low_memory=False)\n",
    "df.shape"
   ]
  },
  {
   "cell_type": "code",
   "execution_count": 113,
   "id": "962906f7",
   "metadata": {},
   "outputs": [],
   "source": [
    "def main(df):\n",
    "    #strata layer 1\n",
    "    lst =  ['AM-21','AM-19', 'AM-8', 'AM-28']\n",
    "    strata1 = df.copy(deep = True)\n",
    "    for i in lst:\n",
    "        strata1 = strata1[strata1['AudioMothCode'] != i]\n",
    "    value_counts = strata1['AudioMothCode'].value_counts()\n",
    "    filtered = value_counts[value_counts >= 24]\n",
    "    filtered_df = strata1[strata1['AudioMothCode'].isin(filtered.index)]\n",
    "    #strata layer 2\n",
    "    dates = pd.to_datetime(filtered_df['StartDateTime'])\n",
    "    hour = dates.dt.hour\n",
    "    filtered_df['hour']= hour\n",
    "    sample=[]\n",
    "    for device in filtered_df['AudioMothCode'].unique():\n",
    "        for i in range(24):\n",
    "            rows =  filtered_df[(filtered_df['AudioMothCode']==device) & (filtered_df['Duration']>=60) & (filtered_df['hour']==i)]\n",
    "            if len(rows)>0:\n",
    "                clip = rows.sample(1)\n",
    "                sample.append(clip)\n",
    "    stratified_df = pd.concat(sample)\n",
    "    if isinstance(stratified_df, pd.DataFrame) and not stratified_df.empty:\n",
    "        stratified_df.to_csv('stratified_sample.csv')\n",
    "        return True\n",
    "    else:\n",
    "        return False"
   ]
  },
  {
   "cell_type": "code",
   "execution_count": null,
   "id": "4faa8f61",
   "metadata": {},
   "outputs": [],
   "source": []
  },
  {
   "cell_type": "code",
   "execution_count": null,
   "id": "0f5a13eb",
   "metadata": {},
   "outputs": [],
   "source": []
  }
 ],
 "metadata": {
  "kernelspec": {
   "display_name": "Python 3 (ipykernel)",
   "language": "python",
   "name": "python3"
  },
  "language_info": {
   "codemirror_mode": {
    "name": "ipython",
    "version": 3
   },
   "file_extension": ".py",
   "mimetype": "text/x-python",
   "name": "python",
   "nbconvert_exporter": "python",
   "pygments_lexer": "ipython3",
   "version": "3.11.5"
  }
 },
 "nbformat": 4,
 "nbformat_minor": 5
}
